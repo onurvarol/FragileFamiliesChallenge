{
 "cells": [
  {
   "cell_type": "markdown",
   "metadata": {},
   "source": [
    "# Fragile Families Challenge\n",
    "## Onur Varol\n",
    "@onurvarol | www.onurvarol.com"
   ]
  },
  {
   "cell_type": "code",
   "execution_count": 2,
   "metadata": {
    "collapsed": false
   },
   "outputs": [
    {
     "name": "stdout",
     "output_type": "stream",
     "text": [
      "Populating the interactive namespace from numpy and matplotlib\n"
     ]
    },
    {
     "name": "stderr",
     "output_type": "stream",
     "text": [
      "WARNING: pylab import has clobbered these variables: ['plt', 'copy']\n",
      "`%matplotlib` prevents importing * from pylab and numpy\n"
     ]
    }
   ],
   "source": [
    "%pylab inline\n",
    "import os, sys, glob, copy\n",
    "import gzip\n",
    "\n",
    "import json\n",
    "import pickle\n",
    "\n",
    "import pandas as pd\n",
    "import numpy as np\n",
    "import matplotlib.pylab as plt\n",
    "\n",
    "from sklearn.manifold import TSNE\n",
    "from sklearn.model_selection import KFold\n",
    "from sklearn import linear_model\n",
    "from sklearn.ensemble import RandomForestRegressor, RandomForestClassifier \n",
    "\n",
    "from data_access import *"
   ]
  },
  {
   "cell_type": "code",
   "execution_count": 9,
   "metadata": {
    "collapsed": false
   },
   "outputs": [
    {
     "name": "stdout",
     "output_type": "stream",
     "text": [
      "['gpa', 'grit', 'materialHardship', 'eviction', 'layoff', 'jobTraining']\n"
     ]
    }
   ],
   "source": [
    "print OUTCOMES\n",
    "\n",
    "fDefinition = get_feature_name_definitions()\n",
    "with open('data/processed_data/feature_list.txt','w') as fl:\n",
    "    for f in get_feature_list():\n",
    "        fl.write('{}: {}\\n'.format(f, fDefinition.get(f,'')))\n"
   ]
  },
  {
   "cell_type": "code",
   "execution_count": 3,
   "metadata": {
    "collapsed": false
   },
   "outputs": [
    {
     "name": "stdout",
     "output_type": "stream",
     "text": [
      "TrX: (1165, 9840), TrY: (1165,), TeX: (3077, 9840)\n"
     ]
    }
   ],
   "source": [
    "trX, trY, teX, uidLbls = create_data_matrix(featureList=get_core_feature_list(), outcome='gpa')"
   ]
  },
  {
   "cell_type": "code",
   "execution_count": 10,
   "metadata": {
    "collapsed": false
   },
   "outputs": [],
   "source": [
    "def evaluate_model(model, trX, trY, teX, uids, features=None):\n",
    "    kf = KFold(n_splits=10)\n",
    "    mse = list()\n",
    "    foldC = 0\n",
    "    \n",
    "    expResults = {'folds':list(), 'model':str(model),\n",
    "                  'userIds':uids, 'features': features\n",
    "                 }\n",
    "    for train_index, test_index in kf.split(trX):\n",
    "        #print(\"TRAIN:\", train_index, \"TEST:\", test_index)\n",
    "        X_train, X_test = trX[train_index], trX[test_index]\n",
    "        y_train, y_test = trY[train_index], trY[test_index]\n",
    "        \n",
    "        model.fit(X_train, y_train)\n",
    "        ypred = model.predict(X_test)\n",
    "        \n",
    "        mse.append(np.mean((ypred - y_test) ** 2))\n",
    "        foldC += 1\n",
    "        print foldC, mse[-1]\n",
    "        \n",
    "        # Keep track of feature importance scores\n",
    "        predTest = regressor.predict(teX)\n",
    "        expResults['folds'].append({'predictions': predTest,\n",
    "                                    'feature_importance': list(model.feature_importances_),\n",
    "                                    'mse': mse[-1],\n",
    "                                   })\n",
    "    print np.mean(mse), mse\n",
    "    \n",
    "    # Model using whole training data\n",
    "    model.fit(trX, trY)\n",
    "    ypred = model.predict(teX)\n",
    "    expResults['all'] = {'predictions': ypred,\n",
    "                         'feature_importance': list(model.feature_importances_),\n",
    "                        }\n",
    "    return expResults\n"
   ]
  },
  {
   "cell_type": "code",
   "execution_count": 14,
   "metadata": {
    "collapsed": false
   },
   "outputs": [
    {
     "name": "stdout",
     "output_type": "stream",
     "text": [
      "108\n",
      "### gpa ###\n",
      "TrX: (1165, 108), TrY: (1165,), TeX: (3077, 108)\n",
      "1 0.320324254431\n",
      "2 0.418841161319\n"
     ]
    },
    {
     "ename": "KeyboardInterrupt",
     "evalue": "",
     "output_type": "error",
     "traceback": [
      "\u001b[0;31m---------------------------------------------------------------------------\u001b[0m",
      "\u001b[0;31mKeyboardInterrupt\u001b[0m                         Traceback (most recent call last)",
      "\u001b[0;32m<ipython-input-14-f8cae6f2b13f>\u001b[0m in \u001b[0;36m<module>\u001b[0;34m()\u001b[0m\n\u001b[1;32m     10\u001b[0m     \u001b[0mtrX\u001b[0m\u001b[0;34m,\u001b[0m \u001b[0mtrY\u001b[0m\u001b[0;34m,\u001b[0m \u001b[0mteX\u001b[0m\u001b[0;34m,\u001b[0m \u001b[0muidLbls\u001b[0m \u001b[0;34m=\u001b[0m \u001b[0mcreate_data_matrix\u001b[0m\u001b[0;34m(\u001b[0m\u001b[0mfeatureList\u001b[0m\u001b[0;34m=\u001b[0m\u001b[0mselectedFeatures\u001b[0m\u001b[0;34m,\u001b[0m \u001b[0moutcome\u001b[0m\u001b[0;34m=\u001b[0m\u001b[0moc\u001b[0m\u001b[0;34m)\u001b[0m\u001b[0;34m\u001b[0m\u001b[0m\n\u001b[1;32m     11\u001b[0m     \u001b[0mregressor\u001b[0m \u001b[0;34m=\u001b[0m \u001b[0mRandomForestRegressor\u001b[0m\u001b[0;34m(\u001b[0m\u001b[0mn_estimators\u001b[0m\u001b[0;34m=\u001b[0m\u001b[0;36m100\u001b[0m\u001b[0;34m)\u001b[0m\u001b[0;34m\u001b[0m\u001b[0m\n\u001b[0;32m---> 12\u001b[0;31m     \u001b[0mexpRes\u001b[0m \u001b[0;34m=\u001b[0m \u001b[0mevaluate_model\u001b[0m\u001b[0;34m(\u001b[0m\u001b[0mregressor\u001b[0m\u001b[0;34m,\u001b[0m \u001b[0mtrX\u001b[0m\u001b[0;34m,\u001b[0m \u001b[0mtrY\u001b[0m\u001b[0;34m,\u001b[0m \u001b[0mteX\u001b[0m\u001b[0;34m,\u001b[0m \u001b[0muidLbls\u001b[0m\u001b[0;34m,\u001b[0m \u001b[0mselectedFeatures\u001b[0m\u001b[0;34m)\u001b[0m\u001b[0;34m\u001b[0m\u001b[0m\n\u001b[0m\u001b[1;32m     13\u001b[0m     \u001b[0mpickle\u001b[0m\u001b[0;34m.\u001b[0m\u001b[0mdump\u001b[0m\u001b[0;34m(\u001b[0m\u001b[0mexpRes\u001b[0m\u001b[0;34m,\u001b[0m \u001b[0mopen\u001b[0m\u001b[0;34m(\u001b[0m\u001b[0;34m'experiments/results_prefixkfeatures_RFregression_10CV_{}.pkl'\u001b[0m\u001b[0;34m.\u001b[0m\u001b[0mformat\u001b[0m\u001b[0;34m(\u001b[0m\u001b[0moc\u001b[0m\u001b[0;34m)\u001b[0m\u001b[0;34m,\u001b[0m\u001b[0;34m'wb'\u001b[0m\u001b[0;34m)\u001b[0m\u001b[0;34m)\u001b[0m\u001b[0;34m\u001b[0m\u001b[0m\n\u001b[1;32m     14\u001b[0m \u001b[0;31m#'''\u001b[0m\u001b[0;34m\u001b[0m\u001b[0;34m\u001b[0m\u001b[0m\n",
      "\u001b[0;32m<ipython-input-10-668025fdc443>\u001b[0m in \u001b[0;36mevaluate_model\u001b[0;34m(model, trX, trY, teX, uids, features)\u001b[0m\n\u001b[1;32m     12\u001b[0m         \u001b[0my_train\u001b[0m\u001b[0;34m,\u001b[0m \u001b[0my_test\u001b[0m \u001b[0;34m=\u001b[0m \u001b[0mtrY\u001b[0m\u001b[0;34m[\u001b[0m\u001b[0mtrain_index\u001b[0m\u001b[0;34m]\u001b[0m\u001b[0;34m,\u001b[0m \u001b[0mtrY\u001b[0m\u001b[0;34m[\u001b[0m\u001b[0mtest_index\u001b[0m\u001b[0;34m]\u001b[0m\u001b[0;34m\u001b[0m\u001b[0m\n\u001b[1;32m     13\u001b[0m \u001b[0;34m\u001b[0m\u001b[0m\n\u001b[0;32m---> 14\u001b[0;31m         \u001b[0mmodel\u001b[0m\u001b[0;34m.\u001b[0m\u001b[0mfit\u001b[0m\u001b[0;34m(\u001b[0m\u001b[0mX_train\u001b[0m\u001b[0;34m,\u001b[0m \u001b[0my_train\u001b[0m\u001b[0;34m)\u001b[0m\u001b[0;34m\u001b[0m\u001b[0m\n\u001b[0m\u001b[1;32m     15\u001b[0m         \u001b[0mypred\u001b[0m \u001b[0;34m=\u001b[0m \u001b[0mmodel\u001b[0m\u001b[0;34m.\u001b[0m\u001b[0mpredict\u001b[0m\u001b[0;34m(\u001b[0m\u001b[0mX_test\u001b[0m\u001b[0;34m)\u001b[0m\u001b[0;34m\u001b[0m\u001b[0m\n\u001b[1;32m     16\u001b[0m \u001b[0;34m\u001b[0m\u001b[0m\n",
      "\u001b[0;32m/Users/onurvarol/anaconda/lib/python2.7/site-packages/sklearn/ensemble/forest.pyc\u001b[0m in \u001b[0;36mfit\u001b[0;34m(self, X, y, sample_weight)\u001b[0m\n\u001b[1;32m    324\u001b[0m                     \u001b[0mt\u001b[0m\u001b[0;34m,\u001b[0m \u001b[0mself\u001b[0m\u001b[0;34m,\u001b[0m \u001b[0mX\u001b[0m\u001b[0;34m,\u001b[0m \u001b[0my\u001b[0m\u001b[0;34m,\u001b[0m \u001b[0msample_weight\u001b[0m\u001b[0;34m,\u001b[0m \u001b[0mi\u001b[0m\u001b[0;34m,\u001b[0m \u001b[0mlen\u001b[0m\u001b[0;34m(\u001b[0m\u001b[0mtrees\u001b[0m\u001b[0;34m)\u001b[0m\u001b[0;34m,\u001b[0m\u001b[0;34m\u001b[0m\u001b[0m\n\u001b[1;32m    325\u001b[0m                     verbose=self.verbose, class_weight=self.class_weight)\n\u001b[0;32m--> 326\u001b[0;31m                 for i, t in enumerate(trees))\n\u001b[0m\u001b[1;32m    327\u001b[0m \u001b[0;34m\u001b[0m\u001b[0m\n\u001b[1;32m    328\u001b[0m             \u001b[0;31m# Collect newly grown trees\u001b[0m\u001b[0;34m\u001b[0m\u001b[0;34m\u001b[0m\u001b[0m\n",
      "\u001b[0;32m/Users/onurvarol/anaconda/lib/python2.7/site-packages/sklearn/externals/joblib/parallel.pyc\u001b[0m in \u001b[0;36m__call__\u001b[0;34m(self, iterable)\u001b[0m\n\u001b[1;32m    756\u001b[0m             \u001b[0;31m# was dispatched. In particular this covers the edge\u001b[0m\u001b[0;34m\u001b[0m\u001b[0;34m\u001b[0m\u001b[0m\n\u001b[1;32m    757\u001b[0m             \u001b[0;31m# case of Parallel used with an exhausted iterator.\u001b[0m\u001b[0;34m\u001b[0m\u001b[0;34m\u001b[0m\u001b[0m\n\u001b[0;32m--> 758\u001b[0;31m             \u001b[0;32mwhile\u001b[0m \u001b[0mself\u001b[0m\u001b[0;34m.\u001b[0m\u001b[0mdispatch_one_batch\u001b[0m\u001b[0;34m(\u001b[0m\u001b[0miterator\u001b[0m\u001b[0;34m)\u001b[0m\u001b[0;34m:\u001b[0m\u001b[0;34m\u001b[0m\u001b[0m\n\u001b[0m\u001b[1;32m    759\u001b[0m                 \u001b[0mself\u001b[0m\u001b[0;34m.\u001b[0m\u001b[0m_iterating\u001b[0m \u001b[0;34m=\u001b[0m \u001b[0mTrue\u001b[0m\u001b[0;34m\u001b[0m\u001b[0m\n\u001b[1;32m    760\u001b[0m             \u001b[0;32melse\u001b[0m\u001b[0;34m:\u001b[0m\u001b[0;34m\u001b[0m\u001b[0m\n",
      "\u001b[0;32m/Users/onurvarol/anaconda/lib/python2.7/site-packages/sklearn/externals/joblib/parallel.pyc\u001b[0m in \u001b[0;36mdispatch_one_batch\u001b[0;34m(self, iterator)\u001b[0m\n\u001b[1;32m    606\u001b[0m                 \u001b[0;32mreturn\u001b[0m \u001b[0mFalse\u001b[0m\u001b[0;34m\u001b[0m\u001b[0m\n\u001b[1;32m    607\u001b[0m             \u001b[0;32melse\u001b[0m\u001b[0;34m:\u001b[0m\u001b[0;34m\u001b[0m\u001b[0m\n\u001b[0;32m--> 608\u001b[0;31m                 \u001b[0mself\u001b[0m\u001b[0;34m.\u001b[0m\u001b[0m_dispatch\u001b[0m\u001b[0;34m(\u001b[0m\u001b[0mtasks\u001b[0m\u001b[0;34m)\u001b[0m\u001b[0;34m\u001b[0m\u001b[0m\n\u001b[0m\u001b[1;32m    609\u001b[0m                 \u001b[0;32mreturn\u001b[0m \u001b[0mTrue\u001b[0m\u001b[0;34m\u001b[0m\u001b[0m\n\u001b[1;32m    610\u001b[0m \u001b[0;34m\u001b[0m\u001b[0m\n",
      "\u001b[0;32m/Users/onurvarol/anaconda/lib/python2.7/site-packages/sklearn/externals/joblib/parallel.pyc\u001b[0m in \u001b[0;36m_dispatch\u001b[0;34m(self, batch)\u001b[0m\n\u001b[1;32m    569\u001b[0m         \u001b[0mdispatch_timestamp\u001b[0m \u001b[0;34m=\u001b[0m \u001b[0mtime\u001b[0m\u001b[0;34m.\u001b[0m\u001b[0mtime\u001b[0m\u001b[0;34m(\u001b[0m\u001b[0;34m)\u001b[0m\u001b[0;34m\u001b[0m\u001b[0m\n\u001b[1;32m    570\u001b[0m         \u001b[0mcb\u001b[0m \u001b[0;34m=\u001b[0m \u001b[0mBatchCompletionCallBack\u001b[0m\u001b[0;34m(\u001b[0m\u001b[0mdispatch_timestamp\u001b[0m\u001b[0;34m,\u001b[0m \u001b[0mlen\u001b[0m\u001b[0;34m(\u001b[0m\u001b[0mbatch\u001b[0m\u001b[0;34m)\u001b[0m\u001b[0;34m,\u001b[0m \u001b[0mself\u001b[0m\u001b[0;34m)\u001b[0m\u001b[0;34m\u001b[0m\u001b[0m\n\u001b[0;32m--> 571\u001b[0;31m         \u001b[0mjob\u001b[0m \u001b[0;34m=\u001b[0m \u001b[0mself\u001b[0m\u001b[0;34m.\u001b[0m\u001b[0m_backend\u001b[0m\u001b[0;34m.\u001b[0m\u001b[0mapply_async\u001b[0m\u001b[0;34m(\u001b[0m\u001b[0mbatch\u001b[0m\u001b[0;34m,\u001b[0m \u001b[0mcallback\u001b[0m\u001b[0;34m=\u001b[0m\u001b[0mcb\u001b[0m\u001b[0;34m)\u001b[0m\u001b[0;34m\u001b[0m\u001b[0m\n\u001b[0m\u001b[1;32m    572\u001b[0m         \u001b[0mself\u001b[0m\u001b[0;34m.\u001b[0m\u001b[0m_jobs\u001b[0m\u001b[0;34m.\u001b[0m\u001b[0mappend\u001b[0m\u001b[0;34m(\u001b[0m\u001b[0mjob\u001b[0m\u001b[0;34m)\u001b[0m\u001b[0;34m\u001b[0m\u001b[0m\n\u001b[1;32m    573\u001b[0m \u001b[0;34m\u001b[0m\u001b[0m\n",
      "\u001b[0;32m/Users/onurvarol/anaconda/lib/python2.7/site-packages/sklearn/externals/joblib/_parallel_backends.pyc\u001b[0m in \u001b[0;36mapply_async\u001b[0;34m(self, func, callback)\u001b[0m\n\u001b[1;32m    107\u001b[0m     \u001b[0;32mdef\u001b[0m \u001b[0mapply_async\u001b[0m\u001b[0;34m(\u001b[0m\u001b[0mself\u001b[0m\u001b[0;34m,\u001b[0m \u001b[0mfunc\u001b[0m\u001b[0;34m,\u001b[0m \u001b[0mcallback\u001b[0m\u001b[0;34m=\u001b[0m\u001b[0mNone\u001b[0m\u001b[0;34m)\u001b[0m\u001b[0;34m:\u001b[0m\u001b[0;34m\u001b[0m\u001b[0m\n\u001b[1;32m    108\u001b[0m         \u001b[0;34m\"\"\"Schedule a func to be run\"\"\"\u001b[0m\u001b[0;34m\u001b[0m\u001b[0m\n\u001b[0;32m--> 109\u001b[0;31m         \u001b[0mresult\u001b[0m \u001b[0;34m=\u001b[0m \u001b[0mImmediateResult\u001b[0m\u001b[0;34m(\u001b[0m\u001b[0mfunc\u001b[0m\u001b[0;34m)\u001b[0m\u001b[0;34m\u001b[0m\u001b[0m\n\u001b[0m\u001b[1;32m    110\u001b[0m         \u001b[0;32mif\u001b[0m \u001b[0mcallback\u001b[0m\u001b[0;34m:\u001b[0m\u001b[0;34m\u001b[0m\u001b[0m\n\u001b[1;32m    111\u001b[0m             \u001b[0mcallback\u001b[0m\u001b[0;34m(\u001b[0m\u001b[0mresult\u001b[0m\u001b[0;34m)\u001b[0m\u001b[0;34m\u001b[0m\u001b[0m\n",
      "\u001b[0;32m/Users/onurvarol/anaconda/lib/python2.7/site-packages/sklearn/externals/joblib/_parallel_backends.pyc\u001b[0m in \u001b[0;36m__init__\u001b[0;34m(self, batch)\u001b[0m\n\u001b[1;32m    324\u001b[0m         \u001b[0;31m# Don't delay the application, to avoid keeping the input\u001b[0m\u001b[0;34m\u001b[0m\u001b[0;34m\u001b[0m\u001b[0m\n\u001b[1;32m    325\u001b[0m         \u001b[0;31m# arguments in memory\u001b[0m\u001b[0;34m\u001b[0m\u001b[0;34m\u001b[0m\u001b[0m\n\u001b[0;32m--> 326\u001b[0;31m         \u001b[0mself\u001b[0m\u001b[0;34m.\u001b[0m\u001b[0mresults\u001b[0m \u001b[0;34m=\u001b[0m \u001b[0mbatch\u001b[0m\u001b[0;34m(\u001b[0m\u001b[0;34m)\u001b[0m\u001b[0;34m\u001b[0m\u001b[0m\n\u001b[0m\u001b[1;32m    327\u001b[0m \u001b[0;34m\u001b[0m\u001b[0m\n\u001b[1;32m    328\u001b[0m     \u001b[0;32mdef\u001b[0m \u001b[0mget\u001b[0m\u001b[0;34m(\u001b[0m\u001b[0mself\u001b[0m\u001b[0;34m)\u001b[0m\u001b[0;34m:\u001b[0m\u001b[0;34m\u001b[0m\u001b[0m\n",
      "\u001b[0;32m/Users/onurvarol/anaconda/lib/python2.7/site-packages/sklearn/externals/joblib/parallel.pyc\u001b[0m in \u001b[0;36m__call__\u001b[0;34m(self)\u001b[0m\n\u001b[1;32m    129\u001b[0m \u001b[0;34m\u001b[0m\u001b[0m\n\u001b[1;32m    130\u001b[0m     \u001b[0;32mdef\u001b[0m \u001b[0m__call__\u001b[0m\u001b[0;34m(\u001b[0m\u001b[0mself\u001b[0m\u001b[0;34m)\u001b[0m\u001b[0;34m:\u001b[0m\u001b[0;34m\u001b[0m\u001b[0m\n\u001b[0;32m--> 131\u001b[0;31m         \u001b[0;32mreturn\u001b[0m \u001b[0;34m[\u001b[0m\u001b[0mfunc\u001b[0m\u001b[0;34m(\u001b[0m\u001b[0;34m*\u001b[0m\u001b[0margs\u001b[0m\u001b[0;34m,\u001b[0m \u001b[0;34m**\u001b[0m\u001b[0mkwargs\u001b[0m\u001b[0;34m)\u001b[0m \u001b[0;32mfor\u001b[0m \u001b[0mfunc\u001b[0m\u001b[0;34m,\u001b[0m \u001b[0margs\u001b[0m\u001b[0;34m,\u001b[0m \u001b[0mkwargs\u001b[0m \u001b[0;32min\u001b[0m \u001b[0mself\u001b[0m\u001b[0;34m.\u001b[0m\u001b[0mitems\u001b[0m\u001b[0;34m]\u001b[0m\u001b[0;34m\u001b[0m\u001b[0m\n\u001b[0m\u001b[1;32m    132\u001b[0m \u001b[0;34m\u001b[0m\u001b[0m\n\u001b[1;32m    133\u001b[0m     \u001b[0;32mdef\u001b[0m \u001b[0m__len__\u001b[0m\u001b[0;34m(\u001b[0m\u001b[0mself\u001b[0m\u001b[0;34m)\u001b[0m\u001b[0;34m:\u001b[0m\u001b[0;34m\u001b[0m\u001b[0m\n",
      "\u001b[0;32m/Users/onurvarol/anaconda/lib/python2.7/site-packages/sklearn/ensemble/forest.pyc\u001b[0m in \u001b[0;36m_parallel_build_trees\u001b[0;34m(tree, forest, X, y, sample_weight, tree_idx, n_trees, verbose, class_weight)\u001b[0m\n\u001b[1;32m    118\u001b[0m             \u001b[0mcurr_sample_weight\u001b[0m \u001b[0;34m*=\u001b[0m \u001b[0mcompute_sample_weight\u001b[0m\u001b[0;34m(\u001b[0m\u001b[0;34m'balanced'\u001b[0m\u001b[0;34m,\u001b[0m \u001b[0my\u001b[0m\u001b[0;34m,\u001b[0m \u001b[0mindices\u001b[0m\u001b[0;34m)\u001b[0m\u001b[0;34m\u001b[0m\u001b[0m\n\u001b[1;32m    119\u001b[0m \u001b[0;34m\u001b[0m\u001b[0m\n\u001b[0;32m--> 120\u001b[0;31m         \u001b[0mtree\u001b[0m\u001b[0;34m.\u001b[0m\u001b[0mfit\u001b[0m\u001b[0;34m(\u001b[0m\u001b[0mX\u001b[0m\u001b[0;34m,\u001b[0m \u001b[0my\u001b[0m\u001b[0;34m,\u001b[0m \u001b[0msample_weight\u001b[0m\u001b[0;34m=\u001b[0m\u001b[0mcurr_sample_weight\u001b[0m\u001b[0;34m,\u001b[0m \u001b[0mcheck_input\u001b[0m\u001b[0;34m=\u001b[0m\u001b[0mFalse\u001b[0m\u001b[0;34m)\u001b[0m\u001b[0;34m\u001b[0m\u001b[0m\n\u001b[0m\u001b[1;32m    121\u001b[0m     \u001b[0;32melse\u001b[0m\u001b[0;34m:\u001b[0m\u001b[0;34m\u001b[0m\u001b[0m\n\u001b[1;32m    122\u001b[0m         \u001b[0mtree\u001b[0m\u001b[0;34m.\u001b[0m\u001b[0mfit\u001b[0m\u001b[0;34m(\u001b[0m\u001b[0mX\u001b[0m\u001b[0;34m,\u001b[0m \u001b[0my\u001b[0m\u001b[0;34m,\u001b[0m \u001b[0msample_weight\u001b[0m\u001b[0;34m=\u001b[0m\u001b[0msample_weight\u001b[0m\u001b[0;34m,\u001b[0m \u001b[0mcheck_input\u001b[0m\u001b[0;34m=\u001b[0m\u001b[0mFalse\u001b[0m\u001b[0;34m)\u001b[0m\u001b[0;34m\u001b[0m\u001b[0m\n",
      "\u001b[0;32m/Users/onurvarol/anaconda/lib/python2.7/site-packages/sklearn/tree/tree.pyc\u001b[0m in \u001b[0;36mfit\u001b[0;34m(self, X, y, sample_weight, check_input, X_idx_sorted)\u001b[0m\n\u001b[1;32m   1027\u001b[0m             \u001b[0msample_weight\u001b[0m\u001b[0;34m=\u001b[0m\u001b[0msample_weight\u001b[0m\u001b[0;34m,\u001b[0m\u001b[0;34m\u001b[0m\u001b[0m\n\u001b[1;32m   1028\u001b[0m             \u001b[0mcheck_input\u001b[0m\u001b[0;34m=\u001b[0m\u001b[0mcheck_input\u001b[0m\u001b[0;34m,\u001b[0m\u001b[0;34m\u001b[0m\u001b[0m\n\u001b[0;32m-> 1029\u001b[0;31m             X_idx_sorted=X_idx_sorted)\n\u001b[0m\u001b[1;32m   1030\u001b[0m         \u001b[0;32mreturn\u001b[0m \u001b[0mself\u001b[0m\u001b[0;34m\u001b[0m\u001b[0m\n\u001b[1;32m   1031\u001b[0m \u001b[0;34m\u001b[0m\u001b[0m\n",
      "\u001b[0;32m/Users/onurvarol/anaconda/lib/python2.7/site-packages/sklearn/tree/tree.pyc\u001b[0m in \u001b[0;36mfit\u001b[0;34m(self, X, y, sample_weight, check_input, X_idx_sorted)\u001b[0m\n\u001b[1;32m    348\u001b[0m                                            self.min_impurity_split)\n\u001b[1;32m    349\u001b[0m \u001b[0;34m\u001b[0m\u001b[0m\n\u001b[0;32m--> 350\u001b[0;31m         \u001b[0mbuilder\u001b[0m\u001b[0;34m.\u001b[0m\u001b[0mbuild\u001b[0m\u001b[0;34m(\u001b[0m\u001b[0mself\u001b[0m\u001b[0;34m.\u001b[0m\u001b[0mtree_\u001b[0m\u001b[0;34m,\u001b[0m \u001b[0mX\u001b[0m\u001b[0;34m,\u001b[0m \u001b[0my\u001b[0m\u001b[0;34m,\u001b[0m \u001b[0msample_weight\u001b[0m\u001b[0;34m,\u001b[0m \u001b[0mX_idx_sorted\u001b[0m\u001b[0;34m)\u001b[0m\u001b[0;34m\u001b[0m\u001b[0m\n\u001b[0m\u001b[1;32m    351\u001b[0m \u001b[0;34m\u001b[0m\u001b[0m\n\u001b[1;32m    352\u001b[0m         \u001b[0;32mif\u001b[0m \u001b[0mself\u001b[0m\u001b[0;34m.\u001b[0m\u001b[0mn_outputs_\u001b[0m \u001b[0;34m==\u001b[0m \u001b[0;36m1\u001b[0m\u001b[0;34m:\u001b[0m\u001b[0;34m\u001b[0m\u001b[0m\n",
      "\u001b[0;31mKeyboardInterrupt\u001b[0m: "
     ]
    }
   ],
   "source": [
    "### FEATURE SELECTION FROM CORE FEATURES\n",
    "# Run model for each outcome seperately\n",
    "selectedFeatures = get_core_feature_list()\n",
    "selectedFeatures = select_feature_by_type(features=selectedFeatures, prefix=['k'])\n",
    "print len(selectedFeatures)\n",
    "\n",
    "#'''\n",
    "for oc in OUTCOMES:\n",
    "    print '### {} ###'.format(oc)\n",
    "    trX, trY, teX, uidLbls = create_data_matrix(featureList=selectedFeatures, outcome=oc)\n",
    "    regressor = RandomForestRegressor(n_estimators=100)\n",
    "    expRes = evaluate_model(regressor, trX, trY, teX, uidLbls, selectedFeatures)\n",
    "    pickle.dump(expRes, open('experiments/results_prefixkfeatures_RFregression_10CV_{}.pkl'.format(oc),'wb'))\n",
    "#'''\n",
    "    \n",
    "for oc in [\"eviction\",\"layoff\",\"jobTraining\"]:\n",
    "    print '### {} ###'.format(oc)\n",
    "    trX, trY, teX, uidLbls = create_data_matrix(featureList=selectedFeatures, outcome=oc)\n",
    "    model = RandomForestClassifier(n_estimators=100)\n",
    "    expRes = evaluate_model(model, trX, trY, teX, uidLbls, selectedFeatures)\n",
    "    pickle.dump(expRes, open('experiments/results_prefixkfeatures_RFclassification_10CV_{}.pkl'.format(oc),'wb'))\n"
   ]
  },
  {
   "cell_type": "code",
   "execution_count": 6,
   "metadata": {
    "collapsed": false
   },
   "outputs": [
    {
     "name": "stdout",
     "output_type": "stream",
     "text": [
      "98 missing features\n",
      "98\n",
      "### gpa ###\n",
      "TrX: (1165, 98), TrY: (1165,), TeX: (3077, 98)\n",
      "1 0.359525412473\n",
      "2 0.450526398606\n",
      "3 0.441019177641\n",
      "4 0.513540109246\n",
      "5 0.460386622863\n",
      "6 0.572469953584\n",
      "7 0.550042582525\n",
      "8 0.619331310824\n",
      "9 0.539105512872\n",
      "10 0.452298497382\n",
      "0.495824557802 [0.35952541247294967, 0.45052639860558219, 0.44101917764054893, 0.51354010924586568, 0.46038662286295345, 0.57246995358379849, 0.55004258252536908, 0.61933131082444648, 0.53910551287179853, 0.45229849738205308]\n",
      "### grit ###\n",
      "TrX: (1418, 98), TrY: (1418,), TeX: (2824, 98)\n",
      "1 0.302907316677\n",
      "2 0.287310950409\n",
      "3 0.249735290042\n",
      "4 0.263255426305\n",
      "5 0.245695469876\n",
      "6 0.295133774259\n",
      "7 0.27321829732\n",
      "8 0.249748034736\n",
      "9 0.233327560679\n",
      "10 0.269626301496\n",
      "0.26699584218 [0.3029073166772453, 0.28731095040928606, 0.24973529004184869, 0.26325542630453364, 0.24569546987603313, 0.29513377425920867, 0.27321829732018271, 0.24974803473621351, 0.23332756067889079, 0.26962630149568417]\n",
      "### materialHardship ###\n",
      "TrX: (1459, 98), TrY: (1459,), TeX: (2783, 98)\n",
      "1 0.029520367335\n",
      "2 0.0221417075807\n",
      "3 0.0257917250662\n",
      "4 0.0341356505371\n",
      "5 0.0208746026897\n",
      "6 0.0289912627046\n",
      "7 0.023759936356\n",
      "8 0.0323085852896\n",
      "9 0.0257616399542\n",
      "10 0.0248934619227\n",
      "0.0268178939436 [0.029520367335024278, 0.022141707580665637, 0.025791725066210951, 0.034135650537136998, 0.020874602689747737, 0.028991262704620751, 0.02375993635604845, 0.032308585289645926, 0.025761639954219741, 0.024893461922666206]\n",
      "### eviction ###\n",
      "TrX: (1459, 98), TrY: (1459,), TeX: (2783, 98)\n",
      "1 0.0730056592466\n",
      "2 0.0616664871146\n",
      "3 0.110754635392\n",
      "4 0.111839773973\n",
      "5 0.048520008553\n",
      "6 0.046472884578\n",
      "7 0.0524370717275\n",
      "8 0.0665259532809\n",
      "9 0.072770668703\n",
      "10 0.040085282528\n",
      "0.0684078425096 [0.073005659246575344, 0.061666487114607385, 0.11075463539218326, 0.11183977397260272, 0.048520008553015311, 0.046472884577975014, 0.052437071727549474, 0.066525953280906477, 0.072770668702996158, 0.040085282527953708]\n",
      "### layoff ###\n",
      "TrX: (1277, 98), TrY: (1277,), TeX: (2965, 98)\n",
      "1 0.189433902573\n",
      "2 0.187668616313\n",
      "3 0.204764278071\n",
      "4 0.174203010666\n",
      "5 0.148108499626\n",
      "6 0.199335308802\n",
      "7 0.19518314251\n",
      "8 0.21330492881\n",
      "9 0.202968854051\n",
      "10 0.202320897537\n",
      "0.191729143896 [0.18943390257259629, 0.1876686163134294, 0.20476427807110809, 0.17420301066560484, 0.14810849962550221, 0.19933530880237765, 0.19518314250985253, 0.21330492881018023, 0.20296885405110432, 0.20232089753704216]\n",
      "### jobTraining ###\n",
      "TrX: (1461, 98), TrY: (1461,), TeX: (2781, 98)\n",
      "1 0.184864569559\n",
      "2 0.198896211538\n",
      "3 0.186765036511\n",
      "4 0.252335650735\n",
      "5 0.225023615678\n",
      "6 0.218330179597\n",
      "7 0.207061681798\n",
      "8 0.18455469283\n",
      "9 0.196405022641\n",
      "10 0.201119024208\n",
      "0.205535568509 [0.18486456955889824, 0.19889621153821094, 0.18676503651071397, 0.25233565073529307, 0.22502361567779317, 0.21833017959654455, 0.20706168179825168, 0.18455469282979753, 0.19640502264063772, 0.20111902420784777]\n",
      "### eviction ###\n",
      "TrX: (1459, 98), TrY: (1459,), TeX: (2783, 98)\n",
      "1 0.0821917808219\n",
      "2 0.0616438356164\n",
      "3 0.123287671233\n",
      "4 0.109589041096\n",
      "5 0.041095890411\n",
      "6 0.0479452054795\n",
      "7 0.0547945205479\n",
      "8 0.0547945205479\n",
      "9 0.0753424657534\n",
      "10 0.048275862069\n",
      "0.0698960793576 [0.082191780821917804, 0.061643835616438353, 0.12328767123287671, 0.1095890410958904, 0.041095890410958902, 0.047945205479452052, 0.054794520547945202, 0.054794520547945202, 0.075342465753424653, 0.048275862068965517]\n",
      "### layoff ###\n",
      "TrX: (1277, 98), TrY: (1277,), TeX: (2965, 98)\n",
      "1 0.2265625\n",
      "2 0.265625\n",
      "3 0.296875\n",
      "4 0.2109375\n",
      "5 0.2265625\n",
      "6 0.2578125\n",
      "7 0.28125\n",
      "8 0.299212598425\n",
      "9 0.267716535433\n",
      "10 0.251968503937\n",
      "0.25845226378 [0.2265625, 0.265625, 0.296875, 0.2109375, 0.2265625, 0.2578125, 0.28125, 0.29921259842519687, 0.26771653543307089, 0.25196850393700787]\n",
      "### jobTraining ###\n",
      "TrX: (1461, 98), TrY: (1461,), TeX: (2781, 98)\n",
      "1 0.244897959184\n",
      "2 0.27397260274\n",
      "3 0.232876712329\n",
      "4 0.335616438356\n",
      "5 0.260273972603\n",
      "6 0.280821917808\n",
      "7 0.27397260274\n",
      "8 0.253424657534\n",
      "9 0.260273972603\n",
      "10 0.287671232877\n",
      "0.270380206877 [0.24489795918367346, 0.27397260273972601, 0.23287671232876711, 0.33561643835616439, 0.26027397260273971, 0.28082191780821919, 0.27397260273972601, 0.25342465753424659, 0.26027397260273971, 0.28767123287671231]\n"
     ]
    }
   ],
   "source": [
    "### FEATURE SELECTION USING CORE AND MISSING FEATURE COUNTS\n",
    "'''\n",
    "# Run this part once to compute features\n",
    "missingUserFeatures = dict()\n",
    "missingFeatures = set()\n",
    "for uid, mfeat in iterate_user_missing_features():\n",
    "    missingUserFeatures[uid] = mfeat\n",
    "    missingFeatures |= set(mfeat.keys())\n",
    "missingFeatures = list(missingFeatures)\n",
    "print len(missingFeatures), 'missing features'\n",
    "pickle.dump(missingUserFeatures, open('data/processed_data/features_missing_survey_counts.pkl','wb'))\n",
    "'''\n",
    "\n",
    "# Load precomputed features\n",
    "missingUserFeatures = pickle.load(open('data/processed_data/features_missing_survey_counts.pkl','rb'))\n",
    "missingFeatures = set()\n",
    "for u in missingUserFeatures:\n",
    "    missingFeatures |= set(missingUserFeatures[u].keys())\n",
    "missingFeatures = list(missingFeatures)\n",
    "print len(missingFeatures), 'missing features'\n",
    "\n",
    "#selectedFeatures = get_core_feature_list()\n",
    "#selectedFeatures = selectedFeatures + missingFeatures\n",
    "selectedFeatures = missingFeatures\n",
    "print len(selectedFeatures)\n",
    "\n",
    "for oc in OUTCOMES:\n",
    "    print '### {} ###'.format(oc)\n",
    "    uIterator = combine_user_feature_iterators([missingUserFeatures])\n",
    "    trX, trY, teX, uidLbls = create_data_matrix(featureList=selectedFeatures, \n",
    "                                                outcome=oc, userFeatureIterator=uIterator)\n",
    "    regressor = RandomForestRegressor(n_estimators=100)\n",
    "    expRes = evaluate_model(regressor, trX, trY, teX, uidLbls, selectedFeatures)\n",
    "    #pickle.dump(expRes, open('experiments/results_wMissingCountfeatures_RFregression_10CV_{}.pkl'.format(oc),'wb'))\n",
    "    pickle.dump(expRes, open('experiments/results_missingfeatures_RFregression_10CV_{}.pkl'.format(oc),'wb'))\n",
    "    \n",
    "    \n",
    "for oc in [\"eviction\",\"layoff\",\"jobTraining\"]:\n",
    "    print '### {} ###'.format(oc)\n",
    "    uIterator = combine_user_feature_iterators([missingUserFeatures])\n",
    "    trX, trY, teX, uidLbls = create_data_matrix(featureList=selectedFeatures, \n",
    "                                                outcome=oc, userFeatureIterator=uIterator)\n",
    "    model = RandomForestClassifier(n_estimators=100)\n",
    "    expRes = evaluate_model(model, trX, trY, teX, uidLbls, selectedFeatures)\n",
    "    #pickle.dump(expRes, open('experiments/results_wMissingCountfeatures_RFclassification_10CV_{}.pkl'.format(oc),'wb'))\n",
    "    pickle.dump(expRes, open('experiments/results_missingfeatures_RFclassification_10CV_{}.pkl'.format(oc),'wb'))\n"
   ]
  },
  {
   "cell_type": "code",
   "execution_count": 6,
   "metadata": {
    "collapsed": false
   },
   "outputs": [
    {
     "name": "stdout",
     "output_type": "stream",
     "text": [
      "34\n",
      "### gpa ###\n",
      "TrX: (1165, 34), TrY: (1165,), TeX: (3077, 34)\n",
      "1 0.394162868983\n",
      "2 0.502007941108\n",
      "3 0.450153307262\n",
      "4 0.511515591946\n",
      "5 0.51667929529\n",
      "6 0.444879411577\n",
      "7 0.529976861482\n",
      "8 0.564772235625\n",
      "9 0.523822369104\n",
      "10 0.408782282365\n",
      "0.484675216474 [0.39416286898308533, 0.50200794110803915, 0.45015330726219149, 0.51151559194620266, 0.51667929528980494, 0.44487941157662686, 0.52997686148187639, 0.56477223562503454, 0.52382236910446744, 0.40878228236464015]\n",
      "### grit ###\n",
      "TrX: (1418, 34), TrY: (1418,), TeX: (2824, 34)\n",
      "1 0.298462817622\n",
      "2 0.283562941445\n",
      "3 0.318951800383\n",
      "4 0.321337296635\n",
      "5 0.238444922458\n",
      "6 0.342313112584\n",
      "7 0.281938994619\n",
      "8 0.299144688438\n",
      "9 0.27464356782\n",
      "10 0.264256429568\n",
      "0.292305657157 [0.2984628176220111, 0.28356294144461275, 0.31895180038290016, 0.32133729663457994, 0.23844492245829879, 0.34231311258414138, 0.28193899461948468, 0.29914468843842518, 0.2746435678196581, 0.26425642956753564]\n",
      "### materialHardship ###\n",
      "TrX: (1459, 34), TrY: (1459,), TeX: (2783, 34)\n",
      "1 0.0297234489039\n",
      "2 0.024787633481\n",
      "3 0.0267486748725\n",
      "4 0.0357197529645\n",
      "5 0.0199280857754\n",
      "6 0.0328892967617\n",
      "7 0.0263342734875\n",
      "8 0.0263935731918\n",
      "9 0.0269460595913\n",
      "10 0.0239470862245\n",
      "0.0273417885254 [0.029723448903864809, 0.024787633481023908, 0.0267486748724747, 0.035719752964514143, 0.019928085775411216, 0.032889296761670496, 0.026334273487484801, 0.026393573191804565, 0.026946059591276432, 0.023947086224455415]\n",
      "### eviction ###\n",
      "TrX: (1459, 34), TrY: (1459,), TeX: (2783, 34)\n",
      "1 0.0890410958904\n",
      "2 0.0684931506849\n",
      "3 0.116438356164\n",
      "4 0.102739726027\n",
      "5 0.041095890411\n",
      "6 0.041095890411\n",
      "7 0.0547945205479\n",
      "8 0.0479452054795\n",
      "9 0.0684931506849\n",
      "10 0.0275862068966\n",
      "0.0657723193198 [0.089041095890410954, 0.068493150684931503, 0.11643835616438356, 0.10273972602739725, 0.041095890410958902, 0.041095890410958902, 0.054794520547945202, 0.047945205479452052, 0.068493150684931503, 0.027586206896551724]\n",
      "### layoff ###\n",
      "TrX: (1277, 34), TrY: (1277,), TeX: (2965, 34)\n",
      "1 0.234375\n",
      "2 0.21875\n",
      "3 0.21875\n",
      "4 0.21875\n",
      "5 0.1953125\n",
      "6 0.2421875\n",
      "7 0.2109375\n",
      "8 0.299212598425\n",
      "9 0.267716535433\n",
      "10 0.236220472441\n",
      "0.23422121063 [0.234375, 0.21875, 0.21875, 0.21875, 0.1953125, 0.2421875, 0.2109375, 0.29921259842519687, 0.26771653543307089, 0.23622047244094488]\n",
      "### jobTraining ###\n",
      "TrX: (1461, 34), TrY: (1461,), TeX: (2781, 34)\n",
      "1 0.258503401361\n",
      "2 0.239726027397\n",
      "3 0.287671232877\n",
      "4 0.321917808219\n",
      "5 0.301369863014\n",
      "6 0.287671232877\n",
      "7 0.267123287671\n",
      "8 0.267123287671\n",
      "9 0.260273972603\n",
      "10 0.232876712329\n",
      "0.272425682602 [0.25850340136054423, 0.23972602739726026, 0.28767123287671231, 0.32191780821917809, 0.30136986301369861, 0.28767123287671231, 0.26712328767123289, 0.26712328767123289, 0.26027397260273971, 0.23287671232876711]\n"
     ]
    }
   ],
   "source": [
    "keyword =  'employment' #'place'\n",
    "selectedFeatures = get_feature_by_keyword(keyword)\n",
    "print len(selectedFeatures)\n",
    "\n",
    "for oc in OUTCOMES:\n",
    "    print '### {} ###'.format(oc)\n",
    "    trX, trY, teX, uidLbls = create_data_matrix(featureList=selectedFeatures, outcome=oc)\n",
    "    \n",
    "    if oc in [\"eviction\",\"layoff\",\"jobTraining\"]:\n",
    "        model = RandomForestClassifier(n_estimators=100)\n",
    "        expRes = evaluate_model(model, trX, trY, teX, uidLbls, selectedFeatures)\n",
    "        pickle.dump(expRes, open('experiments/results_{}-features_RFclassification_10CV_{}.pkl'.format(keyword,oc),'wb'))\n",
    "    else:\n",
    "        regressor = RandomForestRegressor(n_estimators=100)\n",
    "        expRes = evaluate_model(regressor, trX, trY, teX, uidLbls, selectedFeatures)\n",
    "        pickle.dump(expRes, open('experiments/results_{}-features_RFregression_10CV_{}.pkl'.format(keyword,oc),'wb'))"
   ]
  },
  {
   "cell_type": "code",
   "execution_count": 9,
   "metadata": {
    "collapsed": false
   },
   "outputs": [
    {
     "name": "stdout",
     "output_type": "stream",
     "text": [
      "TrX: (1459, 15), TrY: (1459,), TeX: (2783, 15)\n",
      "1 0.0684931506849\n",
      "2 0.0684931506849\n",
      "3 0.109589041096\n",
      "4 0.102739726027\n",
      "5 0.041095890411\n",
      "6 0.0479452054795\n",
      "7 0.0479452054795\n",
      "8 0.0684931506849\n",
      "9 0.0616438356164\n",
      "10 0.0206896551724\n",
      "0.0637128011337 [0.068493150684931503, 0.068493150684931503, 0.1095890410958904, 0.10273972602739725, 0.041095890410958902, 0.047945205479452052, 0.047945205479452052, 0.068493150684931503, 0.061643835616438353, 0.020689655172413793]\n"
     ]
    }
   ],
   "source": [
    "# Eviction classification\n",
    "# https://github.com/gwgundersen/fragile-families/blob/master/paper/eviction.pdf\n",
    "selectedFeatures = ['m4a3','hv3pvnceil','ffcc_centsurvey_b2','m3a3c','hv4l50',\n",
    "                    'm3a3b1','m3f2f2','m2k17e1','m2j15b','m3a3e'\n",
    "                    ,'m2j15f','m2j15c','m3f2d10','m3b32g','m2j15a']\n",
    "oc = 'eviction'\n",
    "\n",
    "trX, trY, teX, uidLbls = create_data_matrix(featureList=selectedFeatures, outcome=oc)\n",
    "    \n",
    "model = RandomForestClassifier(n_estimators=100)\n",
    "expRes = evaluate_model(model, trX, trY, teX, uidLbls, selectedFeatures)\n",
    "pickle.dump(expRes, open('experiments/results_evictionListfeatures_RFclassification_10CV_{}.pkl'.format(keyword,oc),'wb'))\n"
   ]
  },
  {
   "cell_type": "code",
   "execution_count": 12,
   "metadata": {
    "collapsed": false
   },
   "outputs": [
    {
     "name": "stdout",
     "output_type": "stream",
     "text": [
      "experiments/results_wave5features_RFclassification_10CV_eviction.pkl\n",
      "experiments/results_wave5features_RFclassification_10CV_jobTraining.pkl\n",
      "experiments/results_wave5features_RFclassification_10CV_layoff.pkl\n",
      "experiments/results_wave5features_RFregression_10CV_eviction.pkl\n",
      "experiments/results_wave5features_RFregression_10CV_gpa.pkl\n",
      "experiments/results_wave5features_RFregression_10CV_grit.pkl\n",
      "experiments/results_wave5features_RFregression_10CV_jobTraining.pkl\n",
      "experiments/results_wave5features_RFregression_10CV_layoff.pkl\n",
      "experiments/results_wave5features_RFregression_10CV_materialHardship.pkl\n"
     ]
    }
   ],
   "source": [
    "'''\n",
    "# TEMP fix: First experiments doesn't have list of features. Append them\n",
    "selectedFeatures = get_core_feature_list()\n",
    "selectedFeatures = select_feature_by_type(features=selectedFeatures, wave=[5])\n",
    "for fname in glob.glob('experiments/results_wave5features_*.pkl'):\n",
    "    print fname\n",
    "    expRes = pickle.load(open(fname,'rb'))\n",
    "    expRes['features'] = selectedFeatures\n",
    "    pickle.dump(expRes, open(fname,'wb'))\n",
    "'''"
   ]
  },
  {
   "cell_type": "code",
   "execution_count": 30,
   "metadata": {
    "collapsed": false
   },
   "outputs": [
    {
     "name": "stdout",
     "output_type": "stream",
     "text": [
      "(3077,)\n",
      "(2824,)\n",
      "(2783,)\n",
      "(2783,)\n",
      "(2965,)\n",
      "(2781,)\n"
     ]
    },
    {
     "data": {
      "image/png": "[encoded data removed]",
      "text/plain": [
       "<matplotlib.figure.Figure at 0x1124eded0>"
      ]
     },
     "metadata": {},
     "output_type": "display_data"
    },
    {
     "data": {
      "image/png": "[encoded data removed]",
      "text/plain": [
       "<matplotlib.figure.Figure at 0x1148aa610>"
      ]
     },
     "metadata": {},
     "output_type": "display_data"
    },
    {
     "data": {
      "image/png": "[encoded data removed]",
      "text/plain": [
       "<matplotlib.figure.Figure at 0x111079710>"
      ]
     },
     "metadata": {},
     "output_type": "display_data"
    },
    {
     "data": {
      "image/png": "[encoded data removed]",
      "text/plain": [
       "<matplotlib.figure.Figure at 0x11239e1d0>"
      ]
     },
     "metadata": {},
     "output_type": "display_data"
    },
    {
     "data": {
      "image/png": "[encoded data removed]",
      "text/plain": [
       "<matplotlib.figure.Figure at 0x1208b7bd0>"
      ]
     },
     "metadata": {},
     "output_type": "display_data"
    },
    {
     "data": {
      "image/png": "[encoded data removed]",
      "text/plain": [
       "<matplotlib.figure.Figure at 0x12126e7d0>"
      ]
     },
     "metadata": {},
     "output_type": "display_data"
    }
   ],
   "source": [
    "# Plot histogram of test scores\n",
    "for oc in OUTCOMES:\n",
    "    expRes = pickle.load(open('experiments/results_corefeatures_RFregression_10CV_{}.pkl'.format(oc),'rb'))\n",
    "    \n",
    "    testScores = list()\n",
    "    for fold in expRes['folds']:\n",
    "        testScores.append(list(fold['predictions']))\n",
    "    testScores = np.array(testScores)\n",
    "    testScores = np.mean(testScores, axis=0)\n",
    "    print testScores.shape\n",
    "    \n",
    "    oneScore = expRes['all']['predictions']\n",
    "    \n",
    "    plt.figure(figsize=(4,2))\n",
    "    plt.hist(testScores, alpha=0.5)\n",
    "    plt.hist(oneScore, alpha=0.5)\n",
    "    plt.title(oc)\n",
    "    #break"
   ]
  },
  {
   "cell_type": "code",
   "execution_count": 16,
   "metadata": {
    "collapsed": false
   },
   "outputs": [
    {
     "name": "stdout",
     "output_type": "stream",
     "text": [
      " cm5hhinc 0.0367885298053 Constructed - Mother's Household income (with imputed values)\n",
      "hv5_wj10ss 0.0319833470013 Woodcock Johnson Test 10 standard score\n",
      "hv5_ppvtss 0.0187094520198 PPVT standard score\n",
      "hv5_ppvtraw 0.0151903709348 PPVT raw score\n",
      "t5c13c 0.0103794637889 c13C. Child's mathematical skills\n",
      "cf5povcob 0.00890462541909 Constructed - father's household income/poverty threshold at 9-year, mother repo\n",
      "k5f1 0.00777183018851 \n",
      "cf5hhincb 0.00703591506302 Constructed - Household income mother report for married/cohab if available (wit\n",
      "f5j6c 0.00653223666456 J6C. Value of vehicle if sold\n",
      "hv5_wj9ss 0.00593564118785 Woodcock Johnson Test 9 standard score\n"
     ]
    }
   ],
   "source": [
    "# List top features\n",
    "featureNameDefinitions = get_feature_name_definitions()\n",
    "modelName = 'experiments/results_wave5features_RFregression_10CV_gpa.pkl'\n",
    "expRes = pickle.load(open(modelName,'rb'))\n",
    "\n",
    "fImportance = dict()\n",
    "for i,v in enumerate(expRes['all']['feature_importance']):\n",
    "    fImportance[expRes['features'][i]] = v\n",
    "\n",
    "for f in sorted(fImportance, key=fImportance.get, reverse=True)[:10]:\n",
    "    print f, fImportance[f], featureNameDefinitions.get(f,'')"
   ]
  },
  {
   "cell_type": "code",
   "execution_count": 13,
   "metadata": {
    "collapsed": false
   },
   "outputs": [
    {
     "name": "stdout",
     "output_type": "stream",
     "text": [
      "1 [3.0428842762252524, 3.4252556089041279, 0.091461628321531471, 0.26847814348097188, 0.26847814348097188, 0.26847814348097188]\n",
      "2 [2.8745000000000003, 3.5722500000000004, 0.084818181818181904, 0.11000000000000001, 0.11000000000000001, 0.11000000000000001]\n",
      "3 [3.0428842762252524, 3.4252556089041279, 0.091461628321531471, 0.26847814348097188, 0.26847814348097188, 0.26847814348097188]\n",
      "4 [3.1027500000000003, 3.4225000000000003, 0.10736363636363641, 0.20000000000000001, 0.20000000000000001, 0.20000000000000001]\n",
      "5 [2.6849999999999996, 3.2992499999999998, 0.13181818181818197, 0.27000000000000002, 0.27000000000000002, 0.27000000000000002]\n",
      "6 [2.7759999999999998, 3.5, 0.0909090909090909, 0.0, 0.0, 0.0]\n",
      "7 [2.5, 3.25, 0.0, 0.0, 0.0, 0.0]\n",
      "8 [3.0428842762252524, 3.4252556089041279, 0.091461628321531471, 0.26847814348097188, 0.26847814348097188, 0.26847814348097188]\n",
      "9 [2.25, 4.0, 0.181818181818182, 0.0, 0.0, 0.0]\n",
      "10 [3.25, 3.25, 0.0909090909090909, 0.0, 0.21000000000000002, 0.0]\n",
      "11 [2.742, 3.4702500000000001, 0.13209090909090923, 0.23000000000000004, 0.23000000000000004, 0.23000000000000004]\n",
      "12 [3.0147499999999994, 3.2432499999999997, 0.092909090909090969, 0.31, 0.31, 0.31]\n",
      "13 [2.75, 4.0, 0.181818181818182, 0.0, 0.0, 1.0]\n",
      "14 [3.25, 2.75, 0.272727272727273, 0.0, 1.0, 0.0]\n",
      "15 [2.6952499999999997, 3.4383538825757576, 0.15481962481962491, 0.31, 0.31, 0.31]\n",
      "16 [2.0, 3.5, 0.0909090909090909, 0.0, 0.0, 1.0]\n",
      "17 [2.742, 3.3299999999999996, 0.16545454545454558, 0.25999999999999995, 0.25999999999999995, 0.25999999999999995]\n",
      "18 [2.25, 3.0, 0.0, 0.0, 1.0, 0.0]\n",
      "19 [3.0428842762252524, 3.4252556089041279, 0.091461628321531471, 0.26847814348097188, 0.26847814348097188, 0.26847814348097188]\n",
      "20 [3.0640000000000001, 3.0, 0.0, 0.0, 0.0, 0.0]\n"
     ]
    }
   ],
   "source": [
    "def prepare_prediction_file(predictions, path='data/submissions/'):\n",
    "    with open(path + 'prediction.csv', 'w') as fl:\n",
    "        fl.write('\"challengeID\",\"gpa\",\"grit\",\"materialHardship\",\"eviction\",\"layoff\",\"jobTraining\"\\n')\n",
    "        for u in predictions:\n",
    "            fl.write('{},{}\\n'.format(u, ','.join([str(predictions[u][o]) for o in OUTCOMES])))\n",
    "\n",
    "\n",
    "oPredictions = dict()\n",
    "for uid, lbls in iterate_training_data():\n",
    "    oPredictions[int(uid)] = lbls\n",
    "\n",
    "modelStr = 'prefixkfeatures'\n",
    "for oc in OUTCOMES:\n",
    "    # Produce also binary outcomes for [\"eviction\",\"layoff\",\"jobTraining\"]\n",
    "    if oc in [\"eviction\",\"layoff\",\"jobTraining\"]:\n",
    "        expRes = pickle.load(open('experiments/results_{}_RFclassification_10CV_{}.pkl'.format(modelStr,oc),'rb'))\n",
    "    else:\n",
    "        expRes = pickle.load(open('experiments/results_{}_RFregression_10CV_{}.pkl'.format(modelStr,oc),'rb'))\n",
    "    \n",
    "    #print expRes['model']\n",
    "    uidLbls = expRes['userIds']\n",
    "    teIdx = sorted([int(u) for u in uidLbls if uidLbls[u] == False])\n",
    "    \n",
    "    #for i,s in enumerate(expRes['all']['predictions']):\n",
    "    #    if teIdx[i] not in oPredictions:\n",
    "    #        oPredictions[teIdx[i]] = dict()\n",
    "    #    oPredictions[teIdx[i]][oc] = s\n",
    "    \n",
    "    # Add average of scores\n",
    "    #'''\n",
    "    \n",
    "    for i in range(len(teIdx)):\n",
    "        if teIdx[i] not in oPredictions:\n",
    "            oPredictions[teIdx[i]] = dict()\n",
    "        \n",
    "        #if oc in [\"eviction\",\"layoff\",\"jobTraining\"]:\n",
    "        #    mscore = np.mean([f['predictions'][i] for f in expRes['folds']])\n",
    "        #    oPredictions[teIdx[i]][oc] = 1 if mscore > 0.5 else 0\n",
    "        #else:\n",
    "        #    oPredictions[teIdx[i]][oc] = np.mean([f['predictions'][i] for f in expRes['folds']])\n",
    "        oPredictions[teIdx[i]][oc] = np.mean([f['predictions'][i] for f in expRes['folds']])\n",
    "    #'''\n",
    "\n",
    "for u in sorted(oPredictions)[:20]:\n",
    "    print u, [oPredictions[u][o] for o in OUTCOMES]\n",
    "\n",
    "prepare_prediction_file(oPredictions, 'data/submissions/12/')"
   ]
  },
  {
   "cell_type": "code",
   "execution_count": null,
   "metadata": {
    "collapsed": false
   },
   "outputs": [],
   "source": []
  },
  {
   "cell_type": "code",
   "execution_count": null,
   "metadata": {
    "collapsed": true
   },
   "outputs": [],
   "source": []
  }
 ],
 "metadata": {
  "kernelspec": {
   "display_name": "Python 2",
   "language": "python",
   "name": "python2"
  },
  "language_info": {
   "codemirror_mode": {
    "name": "ipython",
    "version": 2
   },
   "file_extension": ".py",
   "mimetype": "text/x-python",
   "name": "python",
   "nbconvert_exporter": "python",
   "pygments_lexer": "ipython2",
   "version": "2.7.12"
  }
 },
 "nbformat": 4,
 "nbformat_minor": 0
}
