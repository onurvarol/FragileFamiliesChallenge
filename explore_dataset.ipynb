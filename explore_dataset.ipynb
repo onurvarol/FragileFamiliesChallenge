{
 "cells": [
  {
   "cell_type": "markdown",
   "metadata": {},
   "source": [
    "# Fragile Families Challenge\n",
    "## Onur Varol\n",
    "@onurvarol | www.onurvarol.com"
   ]
  },
  {
   "cell_type": "code",
   "execution_count": 1,
   "metadata": {
    "collapsed": false
   },
   "outputs": [
    {
     "name": "stdout",
     "output_type": "stream",
     "text": [
      "Populating the interactive namespace from numpy and matplotlib\n"
     ]
    }
   ],
   "source": [
    "%pylab inline\n",
    "import os, sys, glob, copy\n",
    "import gzip\n",
    "\n",
    "import json\n",
    "import pickle\n",
    "\n",
    "import pandas as pd\n",
    "import numpy as np\n",
    "import matplotlib.pylab as plt\n",
    "\n",
    "from sklearn.manifold import TSNE\n",
    "from sklearn import linear_model\n",
    "\n",
    "from data_access import *"
   ]
  },
  {
   "cell_type": "code",
   "execution_count": 2,
   "metadata": {
    "collapsed": false
   },
   "outputs": [
    {
     "name": "stdout",
     "output_type": "stream",
     "text": [
      "12942\n"
     ]
    }
   ],
   "source": [
    "featureDefinitions = get_feature_name_definitions()\n",
    "featureList = get_feature_list()\n",
    "print len(featureList)\n",
    "#print featureList"
   ]
  },
  {
   "cell_type": "code",
   "execution_count": 8,
   "metadata": {
    "collapsed": false
   },
   "outputs": [
    {
     "name": "stdout",
     "output_type": "stream",
     "text": [
      "# of features: 12942\n",
      "# of core features: 9840\n",
      "hv3m20_ 4242 \n",
      "m3natwtx_rep20 4242 Mother three-year national replicate weight no. 20 (excluding one city)\n",
      "m3natwtx_rep21 4242 Mother three-year national replicate weight no. 21 (excluding one city)\n",
      "m3natwtx_rep22 4242 Mother three-year national replicate weight no. 22 (excluding one city)\n",
      "m3natwtx_rep23 4242 Mother three-year national replicate weight no. 23 (excluding one city)\n",
      "m3natwtx_rep24 4242 Mother three-year national replicate weight no. 24 (excluding one city)\n",
      "c2natwtx_rep17 4242 Couple one-year national replicate weight no. 17 (excluding one city)\n",
      "m3natwtx_rep26 4242 Mother three-year national replicate weight no. 26 (excluding one city)\n",
      "m3natwtx_rep27 4242 Mother three-year national replicate weight no. 27 (excluding one city)\n",
      "m2natwtx_rep24 4242 Mother one-year national replicate weight no. 24 (excluding one city)\n",
      "ffcc_famsurvey_a17a_9ot 4242 \n",
      "m2natwtx_rep27 4242 Mother one-year national replicate weight no. 27 (excluding one city)\n",
      "f4natwtx_rep22 4242 Father five-year national replicate weight no. 22 (excluding one city)\n",
      "f3natwtx 4242 Father three-year national weight (excluding one city)\n",
      "f4natwtx_rep20 4242 Father five-year national replicate weight no. 20 (excluding one city)\n",
      "m1intyr 4242 Mother interview year\n",
      "f4natwtx_rep26 4242 Father five-year national replicate weight no. 26 (excluding one city)\n",
      "f4natwtx_rep27 4242 Father five-year national replicate weight no. 27 (excluding one city)\n",
      "f4natwtx_rep24 4242 Father five-year national replicate weight no. 24 (excluding one city)\n",
      "f4natwtx_rep25 4242 Father five-year national replicate weight no. 25 (excluding one city)\n",
      "f4natwtx_rep28 4242 Father five-year national replicate weight no. 28 (excluding one city)\n",
      "f4natwtx_rep29 4242 Father five-year national replicate weight no. 29 (excluding one city)\n",
      "m2natwtx_rep20 4242 Mother one-year national replicate weight no. 20 (excluding one city)\n",
      "c2natwtx_rep8 4242 Couple one-year national replicate weight no. 8 (excluding one city)\n",
      "ffcc_famsurvey_b40_9oth 4242 \n",
      "c2natwtx_rep1 4242 Couple one-year national replicate weight no. 1 (excluding one city)\n",
      "c2natwtx_rep2 4242 Couple one-year national replicate weight no. 2 (excluding one city)\n",
      "c2natwtx_rep3 4242 Couple one-year national replicate weight no. 3 (excluding one city)\n",
      "c2natwtx_rep4 4242 Couple one-year national replicate weight no. 4 (excluding one city)\n",
      "c2natwtx_rep5 4242 Couple one-year national replicate weight no. 5 (excluding one city)\n",
      "c2natwtx_rep6 4242 Couple one-year national replicate weight no. 6 (excluding one city)\n",
      "c2natwtx_rep7 4242 Couple one-year national replicate weight no. 7 (excluding one city)\n",
      "f4natwt_rep32 4242 Father five-year national replicate weight no. 32\n",
      "c4natwt_rep19 4242 Couple five-year national replicate weight no. 19\n",
      "c4natwt_rep18 4242 Couple five-year national replicate weight no. 18\n",
      "c4natwt_rep15 4242 Couple five-year national replicate weight no. 15\n",
      "c4natwt_rep14 4242 Couple five-year national replicate weight no. 14\n",
      "c4natwt_rep17 4242 Couple five-year national replicate weight no. 17\n",
      "c4natwt_rep16 4242 Couple five-year national replicate weight no. 16\n",
      "c4natwt_rep11 4242 Couple five-year national replicate weight no. 11\n",
      "c4natwt_rep10 4242 Couple five-year national replicate weight no. 10\n",
      "c4natwt_rep13 4242 Couple five-year national replicate weight no. 13\n",
      "c4natwt_rep12 4242 Couple five-year national replicate weight no. 12\n",
      "m1natwt_rep15 4242 Mother baseline national replicate weight no. 15\n",
      "m1natwtx_rep22 4242 Mother baseline national replicate weight no. 22 (excluding one city)\n",
      "m1natwtx_rep23 4242 Mother baseline national replicate weight no. 23 (excluding one city)\n",
      "m1natwtx_rep20 4242 Mother baseline national replicate weight no. 20 (excluding one city)\n",
      "m1natwtx_rep21 4242 Mother baseline national replicate weight no. 21 (excluding one city)\n",
      "m1natwtx_rep26 4242 Mother baseline national replicate weight no. 26 (excluding one city)\n",
      "m1natwtx_rep27 4242 Mother baseline national replicate weight no. 27 (excluding one city)\n",
      "m1natwtx_rep24 4242 Mother baseline national replicate weight no. 24 (excluding one city)\n",
      "m1natwtx_rep25 4242 Mother baseline national replicate weight no. 25 (excluding one city)\n",
      "m1natwtx_rep28 4242 Mother baseline national replicate weight no. 28 (excluding one city)\n",
      "m1natwtx_rep29 4242 Mother baseline national replicate weight no. 29 (excluding one city)\n",
      "ffcc_centsurvey_c9_7oth 4242 \n",
      "hv3a16c3_0s 4242 \n",
      "f3natwt 4242 Father three-year national weight\n",
      "f2natwtx_rep19 4242 Father one-year national replicate weight no. 19 (excluding one city)\n",
      "f2natwtx_rep18 4242 Father one-year national replicate weight no. 18 (excluding one city)\n",
      "f2natwtx_rep11 4242 Father one-year national replicate weight no. 11 (excluding one city)\n",
      "f2natwtx_rep10 4242 Father one-year national replicate weight no. 10 (excluding one city)\n",
      "f2natwtx_rep13 4242 Father one-year national replicate weight no. 13 (excluding one city)\n",
      "f2natwtx_rep12 4242 Father one-year national replicate weight no. 12 (excluding one city)\n",
      "f2natwtx_rep15 4242 Father one-year national replicate weight no. 15 (excluding one city)\n",
      "f2natwtx_rep14 4242 Father one-year national replicate weight no. 14 (excluding one city)\n",
      "f2natwtx_rep17 4242 Father one-year national replicate weight no. 17 (excluding one city)\n",
      "f2natwtx_rep16 4242 Father one-year national replicate weight no. 16 (excluding one city)\n",
      "m4natwtx_rep1 4242 Mother five-year national replicate weight no. 1 (excluding one city)\n",
      "m4natwtx_rep2 4242 Mother five-year national replicate weight no. 2 (excluding one city)\n",
      "m4natwtx_rep3 4242 Mother five-year national replicate weight no. 3 (excluding one city)\n",
      "m4natwtx_rep4 4242 Mother five-year national replicate weight no. 4 (excluding one city)\n",
      "m4natwtx_rep5 4242 Mother five-year national replicate weight no. 5 (excluding one city)\n",
      "m4natwtx_rep6 4242 Mother five-year national replicate weight no. 6 (excluding one city)\n",
      "m4natwtx_rep7 4242 Mother five-year national replicate weight no. 7 (excluding one city)\n",
      "m4natwtx_rep9 4242 Mother five-year national replicate weight no. 9 (excluding one city)\n",
      "m1natwt_rep10 4242 Mother baseline national replicate weight no. 10\n",
      "ffcc_centsurvey_c9_9oth 4242 \n",
      "m1natwt_rep11 4242 Mother baseline national replicate weight no. 11\n",
      "hv4g20_ot 4242 \n",
      "m1natwt_rep8 4242 Mother baseline national replicate weight no. 8\n",
      "m1natwt_rep33 4242 Mother baseline national replicate weight no. 33\n",
      "m1natwt_rep30 4242 Mother baseline national replicate weight no. 30\n",
      "f2natwtx_rep32 4242 Father one-year national replicate weight no. 32 (excluding one city)\n",
      "ffcc_centsurvey_f3_9oth 4242 \n",
      "ffcc_famsurvey_f22_a9ot 4242 \n",
      "f4natwtx_rep23 4242 Father five-year national replicate weight no. 23 (excluding one city)\n",
      "m4intyr 4242 Mother interview year\n",
      "f4natwtx_rep21 4242 Father five-year national replicate weight no. 21 (excluding one city)\n",
      "f4natwtx_rep31 4242 Father five-year national replicate weight no. 31 (excluding one city)\n",
      "f4natwtx_rep33 4242 Father five-year national replicate weight no. 33 (excluding one city)\n",
      "f4natwtx_rep32 4242 Father five-year national replicate weight no. 32 (excluding one city)\n",
      "hv4k4per_ot 4242 \n",
      "hv4k8_ot 4242 \n",
      "m2natwtx_rep8 4242 Mother one-year national replicate weight no. 8 (excluding one city)\n",
      "m2natwtx_rep9 4242 Mother one-year national replicate weight no. 9 (excluding one city)\n",
      "m2natwtx_rep6 4242 Mother one-year national replicate weight no. 6 (excluding one city)\n",
      "m2natwtx_rep7 4242 Mother one-year national replicate weight no. 7 (excluding one city)\n",
      "m2natwtx_rep4 4242 Mother one-year national replicate weight no. 4 (excluding one city)\n",
      "m2natwtx_rep5 4242 Mother one-year national replicate weight no. 5 (excluding one city)\n",
      "m2natwtx_rep2 4242 Mother one-year national replicate weight no. 2 (excluding one city)\n"
     ]
    },
    {
     "data": {
      "text/plain": [
       "<matplotlib.text.Text at 0x10ee59190>"
      ]
     },
     "execution_count": 8,
     "metadata": {},
     "output_type": "execute_result"
    },
    {
     "data": {
      "image/png": "[encoded data removed]",
      "text/plain": [
       "<matplotlib.figure.Figure at 0x10ee7f850>"
      ]
     },
     "metadata": {},
     "output_type": "display_data"
    }
   ],
   "source": [
    "# Count which features are mostly missing\n",
    "#'''\n",
    "coreFeatures = set(get_feature_list())\n",
    "featureMissing = dict()\n",
    "for uid, feat in iterate_user_background_features():\n",
    "    for f in featureList:\n",
    "        if f not in feat:\n",
    "            if f not in featureMissing:\n",
    "                featureMissing[f] = 0\n",
    "            featureMissing[f] += 1\n",
    "    coreFeatures = coreFeatures & set(feat)\n",
    "    \n",
    "print '# of features: {}'.format(len(featureList))\n",
    "print '# of core features: {}'.format(len(coreFeatures))\n",
    "#'''\n",
    "\n",
    "for f in sorted(featureMissing, key=featureMissing.get, reverse=True)[:100]:\n",
    "    print f, featureMissing[f], featureDefinitions.get(f, '')\n",
    "    \n",
    "plt.figure(figsize=(4,2))\n",
    "plt.hist(featureMissing.values())\n",
    "plt.ylabel('Histogram')\n",
    "plt.xlabel('Frequency of missing feature')"
   ]
  },
  {
   "cell_type": "code",
   "execution_count": null,
   "metadata": {
    "collapsed": false
   },
   "outputs": [],
   "source": []
  },
  {
   "cell_type": "code",
   "execution_count": null,
   "metadata": {
    "collapsed": true
   },
   "outputs": [],
   "source": []
  }
 ],
 "metadata": {
  "kernelspec": {
   "display_name": "Python 2",
   "language": "python",
   "name": "python2"
  },
  "language_info": {
   "codemirror_mode": {
    "name": "ipython",
    "version": 2
   },
   "file_extension": ".py",
   "mimetype": "text/x-python",
   "name": "python",
   "nbconvert_exporter": "python",
   "pygments_lexer": "ipython2",
   "version": "2.7.12"
  }
 },
 "nbformat": 4,
 "nbformat_minor": 0
}
